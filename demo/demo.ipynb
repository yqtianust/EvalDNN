{
 "cells": [
  {
   "cell_type": "markdown",
   "metadata": {
    "slideshow": {
     "slide_type": "-"
    }
   },
   "source": [
    "# A Demo of Using EvalDNN to evaluate a Keras Model"
   ]
  },
  {
   "cell_type": "markdown",
   "metadata": {},
   "source": [
    "## Import necessary packages"
   ]
  },
  {
   "cell_type": "code",
   "execution_count": 1,
   "metadata": {},
   "outputs": [
    {
     "name": "stderr",
     "output_type": "stream",
     "text": [
      "Using TensorFlow backend.\n"
     ]
    }
   ],
   "source": [
    "import keras\n",
    "import numpy\n",
    "keras.backend.set_learning_phase(0)"
   ]
  },
  {
   "cell_type": "markdown",
   "metadata": {},
   "source": [
    "## Load A pre-trained Model for MNIST"
   ]
  },
  {
   "cell_type": "code",
   "execution_count": 2,
   "metadata": {},
   "outputs": [
    {
     "name": "stdout",
     "output_type": "stream",
     "text": [
      "Model: \"model_1\"\n",
      "_________________________________________________________________\n",
      "Layer (type)                 Output Shape              Param #   \n",
      "=================================================================\n",
      "input_1 (InputLayer)         (None, 28, 28, 1)         0         \n",
      "_________________________________________________________________\n",
      "block1_conv1 (Conv2D)        (None, 28, 28, 6)         156       \n",
      "_________________________________________________________________\n",
      "block1_pool1 (MaxPooling2D)  (None, 14, 14, 6)         0         \n",
      "_________________________________________________________________\n",
      "block2_conv1 (Conv2D)        (None, 14, 14, 16)        2416      \n",
      "_________________________________________________________________\n",
      "block2_pool1 (MaxPooling2D)  (None, 7, 7, 16)          0         \n",
      "_________________________________________________________________\n",
      "flatten (Flatten)            (None, 784)               0         \n",
      "_________________________________________________________________\n",
      "fc1 (Dense)                  (None, 120)               94200     \n",
      "_________________________________________________________________\n",
      "fc2 (Dense)                  (None, 84)                10164     \n",
      "_________________________________________________________________\n",
      "before_softmax (Dense)       (None, 10)                850       \n",
      "_________________________________________________________________\n",
      "predictions (Activation)     (None, 10)                0         \n",
      "=================================================================\n",
      "Total params: 107,786\n",
      "Trainable params: 107,786\n",
      "Non-trainable params: 0\n",
      "_________________________________________________________________\n"
     ]
    }
   ],
   "source": [
    "model = keras.models.load_model('demo_lenet5.h5')\n",
    "model.summary()"
   ]
  },
  {
   "cell_type": "markdown",
   "metadata": {},
   "source": [
    "## Load MNIST Data"
   ]
  },
  {
   "cell_type": "code",
   "execution_count": 3,
   "metadata": {},
   "outputs": [
    {
     "name": "stdout",
     "output_type": "stream",
     "text": [
      "(10000, 28, 28, 1)\n",
      "(10000,)\n"
     ]
    }
   ],
   "source": [
    "def mnist_test_data(num_max=None):\n",
    "    (x_train, y_train), (x_test, y_test) = keras.datasets.mnist.load_data()\n",
    "    \n",
    "    x_test = x_test.reshape(x_test.shape[0], 28, 28, 1).astype('float32') / 255\n",
    "    y_test = y_test.flatten().astype('int32')\n",
    "    \n",
    "    return x_test, y_test\n",
    "\n",
    "x_test, y_test= mnist_test_data()\n",
    "print(x_test.shape)\n",
    "print(y_test.shape)"
   ]
  },
  {
   "cell_type": "markdown",
   "metadata": {},
   "source": [
    "# Wrap Model"
   ]
  },
  {
   "cell_type": "code",
   "execution_count": 4,
   "metadata": {},
   "outputs": [],
   "source": [
    "from evaldnn.models.keras import KerasModel\n",
    "measure_model = KerasModel(model)"
   ]
  },
  {
   "cell_type": "markdown",
   "metadata": {},
   "source": [
    "## First, assume we want to evaluate its Accuracy"
   ]
  },
  {
   "cell_type": "code",
   "execution_count": 5,
   "metadata": {},
   "outputs": [
    {
     "name": "stdout",
     "output_type": "stream",
     "text": [
      "[Accuracy] Time: 2019-12-13 01:22:15, Num: 10, topK: 1, Accuracy: 1.000000(10/10)\n",
      "[Accuracy] Time: 2019-12-13 01:22:15, Num: 10, topK: 5, Accuracy: 1.000000(10/10)\n"
     ]
    }
   ],
   "source": [
    "# specify metrics\n",
    "from evaldnn.metrics.accuracy import Accuracy\n",
    "accuracy = Accuracy()\n",
    "measure_model.predict(x_test[:10], y_test[:10], [accuracy.update, accuracy.report])"
   ]
  },
  {
   "cell_type": "markdown",
   "metadata": {},
   "source": [
    "## Second, assume we want to evaluate its Neuron Coverage"
   ]
  },
  {
   "cell_type": "code",
   "execution_count": 6,
   "metadata": {},
   "outputs": [
    {
     "name": "stdout",
     "output_type": "stream",
     "text": [
      "[NeuronCoverage] Time:2019-12-13 01:22:21, Layers: 8, Neurons: 268\n",
      "[NeuronCoverage] Time:2019-12-13 01:22:21, Num: 8, Threshold: 0.000000, Neuron Coverage: 0.947761(254/268)\n",
      "[NeuronCoverage] Time:2019-12-13 01:22:21, Num: 8, Threshold: 0.100000, Neuron Coverage: 0.828358(222/268)\n",
      "[NeuronCoverage] Time:2019-12-13 01:22:21, Num: 8, Threshold: 0.200000, Neuron Coverage: 0.701493(188/268)\n",
      "[NeuronCoverage] Time:2019-12-13 01:22:21, Num: 8, Threshold: 0.300000, Neuron Coverage: 0.608209(163/268)\n",
      "[NeuronCoverage] Time:2019-12-13 01:22:21, Num: 8, Threshold: 0.400000, Neuron Coverage: 0.541045(145/268)\n",
      "[NeuronCoverage] Time:2019-12-13 01:22:21, Num: 8, Threshold: 0.500000, Neuron Coverage: 0.462687(124/268)\n",
      "[NeuronCoverage] Time:2019-12-13 01:22:21, Num: 8, Threshold: 0.600000, Neuron Coverage: 0.350746(94/268)\n",
      "[NeuronCoverage] Time:2019-12-13 01:22:21, Num: 8, Threshold: 0.700000, Neuron Coverage: 0.257463(69/268)\n",
      "[NeuronCoverage] Time:2019-12-13 01:22:21, Num: 8, Threshold: 0.800000, Neuron Coverage: 0.194030(52/268)\n",
      "[NeuronCoverage] Time:2019-12-13 01:22:21, Num: 8, Threshold: 0.900000, Neuron Coverage: 0.130597(35/268)\n",
      "[NeuronCoverage] Time:2019-12-13 01:22:21, Num: 10, Threshold: 0.000000, Neuron Coverage: 0.947761(254/268)\n",
      "[NeuronCoverage] Time:2019-12-13 01:22:21, Num: 10, Threshold: 0.100000, Neuron Coverage: 0.832090(223/268)\n",
      "[NeuronCoverage] Time:2019-12-13 01:22:21, Num: 10, Threshold: 0.200000, Neuron Coverage: 0.720149(193/268)\n",
      "[NeuronCoverage] Time:2019-12-13 01:22:21, Num: 10, Threshold: 0.300000, Neuron Coverage: 0.641791(172/268)\n",
      "[NeuronCoverage] Time:2019-12-13 01:22:21, Num: 10, Threshold: 0.400000, Neuron Coverage: 0.589552(158/268)\n",
      "[NeuronCoverage] Time:2019-12-13 01:22:21, Num: 10, Threshold: 0.500000, Neuron Coverage: 0.518657(139/268)\n",
      "[NeuronCoverage] Time:2019-12-13 01:22:21, Num: 10, Threshold: 0.600000, Neuron Coverage: 0.391791(105/268)\n",
      "[NeuronCoverage] Time:2019-12-13 01:22:21, Num: 10, Threshold: 0.700000, Neuron Coverage: 0.298507(80/268)\n",
      "[NeuronCoverage] Time:2019-12-13 01:22:21, Num: 10, Threshold: 0.800000, Neuron Coverage: 0.223881(60/268)\n",
      "[NeuronCoverage] Time:2019-12-13 01:22:21, Num: 10, Threshold: 0.900000, Neuron Coverage: 0.156716(42/268)\n"
     ]
    }
   ],
   "source": [
    "from evaldnn.metrics.neuron_coverage import NeuronCoverage\n",
    "neuron_coverage = NeuronCoverage()\n",
    "measure_model.intermediate_layer_outputs(x_test[:10], [neuron_coverage.update, neuron_coverage.report])"
   ]
  },
  {
   "cell_type": "markdown",
   "metadata": {},
   "source": [
    "## Last, assume we want to evaluate its Robustness"
   ]
  },
  {
   "cell_type": "code",
   "execution_count": 7,
   "metadata": {},
   "outputs": [
    {
     "name": "stdout",
     "output_type": "stream",
     "text": [
      "[Robustness] Time: 2019-12-13 01:22:21, Total Num: 1, Correct Num: 1, Incorrect Num: 0, Success Rate: 1.0000000000(1/1), Avg Mean Squared Distance: 0.0100030613, Avg Mean Absolute Distance: 0.0762355849, Avg Linfinity: 0.1320000291, Avg L0: 469.0000000000\n",
      "[Robustness] Time: 2019-12-13 01:22:21, Total Num: 2, Correct Num: 2, Incorrect Num: 0, Success Rate: 1.0000000000(2/2), Avg Mean Squared Distance: 0.0096934912, Avg Mean Absolute Distance: 0.0752021298, Avg Linfinity: 0.1300000250, Avg L0: 480.0000000000\n",
      "[Robustness] Time: 2019-12-13 01:22:21, Total Num: 3, Correct Num: 3, Incorrect Num: 0, Success Rate: 1.0000000000(3/3), Avg Mean Squared Distance: 0.0116078497, Avg Mean Absolute Distance: 0.0820079868, Avg Linfinity: 0.1406666835, Avg L0: 476.3333333333\n",
      "[Robustness] Time: 2019-12-13 01:22:21, Total Num: 4, Correct Num: 4, Incorrect Num: 0, Success Rate: 1.0000000000(4/4), Avg Mean Squared Distance: 0.0117722467, Avg Mean Absolute Distance: 0.0828981064, Avg Linfinity: 0.1417500153, Avg L0: 482.7500000000\n",
      "[Robustness] Time: 2019-12-13 01:22:22, Total Num: 5, Correct Num: 5, Incorrect Num: 0, Success Rate: 1.0000000000(5/5), Avg Mean Squared Distance: 0.0104926198, Avg Mean Absolute Distance: 0.0775066264, Avg Linfinity: 0.1328000188, Avg L0: 480.2000000000\n",
      "[Robustness] Time: 2019-12-13 01:22:22, Total Num: 6, Correct Num: 6, Incorrect Num: 0, Success Rate: 1.0000000000(6/6), Avg Mean Squared Distance: 0.0114962496, Avg Mean Absolute Distance: 0.0811186799, Avg Linfinity: 0.1385000199, Avg L0: 479.1666666667\n",
      "[Robustness] Time: 2019-12-13 01:22:22, Total Num: 7, Correct Num: 7, Incorrect Num: 0, Success Rate: 1.0000000000(7/7), Avg Mean Squared Distance: 0.0101571066, Avg Mean Absolute Distance: 0.0745329160, Avg Linfinity: 0.1274285891, Avg L0: 477.4285714286\n",
      "[Robustness] Time: 2019-12-13 01:22:22, Total Num: 8, Correct Num: 8, Incorrect Num: 0, Success Rate: 1.0000000000(8/8), Avg Mean Squared Distance: 0.0092274226, Avg Mean Absolute Distance: 0.0701750191, Avg Linfinity: 0.1201250162, Avg L0: 476.6250000000\n",
      "[Robustness] Time: 2019-12-13 01:22:22, Total Num: 9, Correct Num: 9, Incorrect Num: 0, Success Rate: 1.0000000000(9/9), Avg Mean Squared Distance: 0.0088625078, Avg Mean Absolute Distance: 0.0689000868, Avg Linfinity: 0.1181111286, Avg L0: 476.5555555556\n",
      "[Robustness] Time: 2019-12-13 01:22:22, Total Num: 10, Correct Num: 10, Incorrect Num: 0, Success Rate: 1.0000000000(10/10), Avg Mean Squared Distance: 0.0087293378, Avg Mean Absolute Distance: 0.0688042156, Avg Linfinity: 0.1175000176, Avg L0: 479.6000000000\n"
     ]
    }
   ],
   "source": [
    "from evaldnn.metrics.robustness import Robustness\n",
    "import foolbox\n",
    "bounds = (0, 1)\n",
    "robustness = Robustness(bounds)\n",
    "measure_model.adversarial_attack(x_test[0:10,...],y_test[0:10], bounds,\n",
    "    [robustness.update, robustness.report], attack=foolbox.attacks.FGSM, distance=foolbox.distances.Linf)"
   ]
  },
  {
   "cell_type": "code",
   "execution_count": null,
   "metadata": {},
   "outputs": [],
   "source": []
  }
 ],
 "metadata": {
  "kernelspec": {
   "display_name": "Python 3",
   "language": "python",
   "name": "python3"
  },
  "language_info": {
   "codemirror_mode": {
    "name": "ipython",
    "version": 3
   },
   "file_extension": ".py",
   "mimetype": "text/x-python",
   "name": "python",
   "nbconvert_exporter": "python",
   "pygments_lexer": "ipython3",
   "version": "3.7.5"
  }
 },
 "nbformat": 4,
 "nbformat_minor": 2
}
